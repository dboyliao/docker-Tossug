{
 "metadata": {
  "celltoolbar": "Slideshow",
  "name": "",
  "signature": "sha256:eb7a85a9145d08d843d6da798295fba81566d24bc882192b62bcfd780ec0fbc0"
 },
 "nbformat": 3,
 "nbformat_minor": 0,
 "worksheets": [
  {
   "cells": [
    {
     "cell_type": "markdown",
     "metadata": {
      "slideshow": {
       "slide_type": "slide"
      }
     },
     "source": [
      "# What is Big-O?\n",
      "\n",
      "Big-O is a terminology used in analysis of algorithm. <br>\n",
      "But what is an algorithm anyway?<br>"
     ]
    },
    {
     "cell_type": "markdown",
     "metadata": {
      "slideshow": {
       "slide_type": "fragment"
      }
     },
     "source": [
      "\n",
      "By wiki, an algorithm is a step-by-step procedure for calculations. <br>\n",
      "We expect such an algorithm will give us the \"correct\" result we're interested in. <br> \n",
      "Hence, for any kind of algorithm, we care about mainly on two things:\n",
      "\n",
      "- Accuracy\n",
      "- Effeciency"
     ]
    },
    {
     "cell_type": "markdown",
     "metadata": {
      "slideshow": {
       "slide_type": "subslide"
      }
     },
     "source": [
      "### What we don't like:\n",
      "\n",
      "- An algorithm that gives you a <font color='red'>wrong</font> answer.\n",
      "- An algorithm that takes <font color='red'>too long to finish</font>.\n",
      "\n",
      "Wait! what does it mean by `too long to finish`? That is where Big-O steps in. <br>\n",
      "\n",
      "In order to give an estimation which is independent to the device or computer you have, we estimate the time for an algorithm to finish in the term of the number of operations it required. <br>\n",
      "\n",
      "- Including only basic unit of computation. Such as plus(+), minus(-), logical and, ...etc\n",
      "- Make sure to make a tight estimation of your algorithm (See example below)."
     ]
    },
    {
     "cell_type": "markdown",
     "metadata": {
      "slideshow": {
       "slide_type": "subslide"
      }
     },
     "source": [
      "## Definition for Big-O\n",
      "\n",
      "<font size='3'><u>**Definition:**</u></font><br>\n",
      "<p>\n",
      "Let $f(x)$ and $g(x)$ be two functions defined on $\\mathbb{R}$ (real number), <br>\n",
      "one write: $$f(x) \\sim \\mathcal{O}(g(x))$$\n",
      "  <br>\n",
      "if and only if there exists on positive number $\\mathcal{M}$ in $\\mathbb{R}$ such that:<br>\n",
      "  <br>\n",
      "$$\\lim_{x \\rightarrow \\infty} \\frac{f(x)}{g(x)} \\leq \\mathcal{M}$$\n",
      "</p>\n"
     ]
    },
    {
     "cell_type": "markdown",
     "metadata": {
      "slideshow": {
       "slide_type": "subslide"
      }
     },
     "source": [
      "*[Example]*: <br>\n",
      "$$f(x)= 6x^3 + \\frac{1}{x^2} \\sim \\mathcal{O}(x^3)$$\n",
      "\n",
      "**Note:** It is also correct to write: $$f(x) \\sim \\mathcal{O}(x^6)$$\n",
      "\n",
      "Basically speaking, they are two common type of algorithm:\n",
      "\n",
      "- Brutal Force Algorithm <-- Typically SLOW, but easy to check the accuracy.\n",
      "- Algorithm developed by smart person. <-- Much more faster but hard to analyse\n",
      "\n",
      "Here I am going to use sorting problem as example."
     ]
    },
    {
     "cell_type": "markdown",
     "metadata": {
      "slideshow": {
       "slide_type": "subslide"
      }
     },
     "source": [
      "# Brutal Force Sorting:"
     ]
    },
    {
     "cell_type": "markdown",
     "metadata": {
      "slideshow": {
       "slide_type": "fragment"
      }
     },
     "source": [
      "### The Pseudo Code for Brutal Sort\n",
      "**brutal_sort(A)**<br>\n",
      "**Input: an array of length n** <br>\n",
      "**Output: an sorted array. (large --> small)** <br>\n",
      "\n",
      "1. **result <- []** <br>\n",
      "2. **for k in 1 to n** <br>\n",
      "3. **&nbsp;|&nbsp;&nbsp;tmp <- A[0]** <br>\n",
      "4. **&nbsp;|&nbsp;&nbsp;for j in 1 to length of A** <br>\n",
      "5. **&nbsp;|&nbsp;&nbsp;|&nbsp;&nbsp;if A[j] > tmp** <br>\n",
      "6. **&nbsp;|&nbsp;&nbsp;|&nbsp;&nbsp;|&nbsp;&nbsp;tmp <- A[j]** <br>\n",
      "7. **&nbsp;|&nbsp;&nbsp;|&nbsp;&nbsp;result[k] <- tmp** <br>\n",
      "8. **&nbsp;|&nbsp;&nbsp;|&nbsp;&nbsp;remove(A, tmp)** <br>\n",
      "9. **return result** <br>"
     ]
    },
    {
     "cell_type": "code",
     "collapsed": false,
     "input": [
      "def brutal_sort(to_sort):\n",
      "    \"\"\"\n",
      "    Always find the largest element and the update the array to be returned\n",
      "    \"\"\"\n",
      "    result = []\n",
      "    for k in range(len(to_sort)):\n",
      "        tmp = to_sort[0]\n",
      "        for j in range(1, len(to_sort)):\n",
      "            if to_sort[j] > tmp:\n",
      "                tmp = to_sort[j]\n",
      "        result.append(tmp)\n",
      "        to_sort.remove(tmp)\n",
      "    return result"
     ],
     "language": "python",
     "metadata": {
      "slideshow": {
       "slide_type": "subslide"
      }
     },
     "outputs": [],
     "prompt_number": 1
    },
    {
     "cell_type": "code",
     "collapsed": false,
     "input": [
      "import random\n",
      "a = [11 * random.random() for i in range(10000)]"
     ],
     "language": "python",
     "metadata": {
      "slideshow": {
       "slide_type": "subslide"
      }
     },
     "outputs": [],
     "prompt_number": 2
    },
    {
     "cell_type": "code",
     "collapsed": false,
     "input": [
      "%time a_sorted = brutal_sort(a)"
     ],
     "language": "python",
     "metadata": {
      "slideshow": {
       "slide_type": "fragment"
      }
     },
     "outputs": [
      {
       "output_type": "stream",
       "stream": "stdout",
       "text": [
        "CPU times: user 4.64 s, sys: 24.8 ms, total: 4.66 s\n",
        "Wall time: 4.71 s\n"
       ]
      }
     ],
     "prompt_number": 3
    },
    {
     "cell_type": "markdown",
     "metadata": {
      "slideshow": {
       "slide_type": "subslide"
      }
     },
     "source": [
      "## Pop Quiz\n",
      "\n",
      "  <br>\n",
      "<font color='green' size='4'> What is the Big-O for this brutal_sort? </font>\n",
      "\n",
      "**Note: Here we only consider an array with distinct values.**\n",
      "\n",
      "**Note2: How about array with duplicate values?**"
     ]
    },
    {
     "cell_type": "markdown",
     "metadata": {
      "slideshow": {
       "slide_type": "subslide"
      }
     },
     "source": [
      "$$\\mbox{# of operations for brutal_sort} \\sim \\mathcal{O}(n^2)$$"
     ]
    },
    {
     "cell_type": "markdown",
     "metadata": {
      "slideshow": {
       "slide_type": "slide"
      }
     },
     "source": [
      "# Merge Sort"
     ]
    },
    {
     "cell_type": "markdown",
     "metadata": {
      "slideshow": {
       "slide_type": "subslide"
      }
     },
     "source": [
      "## The pseudo code for merge sort is as following:\n",
      "  <br>\n",
      "![](https://raw.githubusercontent.com/dboyliao/TOSSUG/master/DS/Big_O/merge_sort1.png)"
     ]
    },
    {
     "cell_type": "markdown",
     "metadata": {
      "slideshow": {
       "slide_type": "subslide"
      }
     },
     "source": [
      "![](https://raw.githubusercontent.com/dboyliao/TOSSUG/master/DS/Big_O/merge_sort2.png)"
     ]
    },
    {
     "cell_type": "markdown",
     "metadata": {
      "slideshow": {
       "slide_type": "subslide"
      }
     },
     "source": [
      "## The Implementation"
     ]
    },
    {
     "cell_type": "code",
     "collapsed": false,
     "input": [
      "def merge_sort(to_sort):\n",
      "    \"\"\"Merge Sort\"\"\"\n",
      "    # if the array is of the base case, return it.\n",
      "    if len(to_sort) == 2:\n",
      "        if to_sort[0] < to_sort[1]:\n",
      "            return [to_sort[1], to_sort[0]]\n",
      "        else:\n",
      "            return to_sort\n",
      "    if len(to_sort) == 1:\n",
      "        return to_sort\n",
      "    # Recursively merge sort the left half and the right half of the given array.\n",
      "    # Then merge the result.\n",
      "    left = merge_sort(to_sort[:(len(to_sort)/2)])\n",
      "    right = merge_sort(to_sort[(len(to_sort)/2):])\n",
      "    i = 0\n",
      "    j = 0\n",
      "    result =[]\n",
      "    for k in range(len(to_sort)):\n",
      "        if left[i] > right[j]:\n",
      "            result.append(left[i])\n",
      "            i += 1\n",
      "            if i >= len(left):\n",
      "                for e in right[j:]:\n",
      "                    result.append(e)\n",
      "                return result\n",
      "        else:\n",
      "            result.append(right[j])\n",
      "            j += 1\n",
      "            if j >= len(right):\n",
      "                for e in left[i:]:\n",
      "                    result.append(e)\n",
      "                return result"
     ],
     "language": "python",
     "metadata": {
      "slideshow": {
       "slide_type": "subslide"
      }
     },
     "outputs": [],
     "prompt_number": 4
    },
    {
     "cell_type": "code",
     "collapsed": false,
     "input": [
      "a = [11 * random.random() for i in range(10000)]"
     ],
     "language": "python",
     "metadata": {
      "slideshow": {
       "slide_type": "subslide"
      }
     },
     "outputs": [],
     "prompt_number": 5
    },
    {
     "cell_type": "code",
     "collapsed": false,
     "input": [
      "%time a_sort = merge_sort(a)"
     ],
     "language": "python",
     "metadata": {
      "slideshow": {
       "slide_type": "fragment"
      }
     },
     "outputs": [
      {
       "output_type": "stream",
       "stream": "stdout",
       "text": [
        "CPU times: user 86.2 ms, sys: 9.16 ms, total: 95.3 ms\n",
        "Wall time: 88.6 ms\n"
       ]
      }
     ],
     "prompt_number": 6
    },
    {
     "cell_type": "markdown",
     "metadata": {
      "slideshow": {
       "slide_type": "slide"
      }
     },
     "source": [
      "# Further Discussion\n",
      "## Big-O for Merge Sort\n",
      "\n",
      "- What is the big-O for merge sort?\n",
      "- You can find it by hand or by experiment!"
     ]
    },
    {
     "cell_type": "markdown",
     "metadata": {
      "slideshow": {
       "slide_type": "subslide"
      }
     },
     "source": [
      "## Pseudo Code - BFS Algorithm\n",
      "\n",
      "![Pseudo Code](https://raw.githubusercontent.com/dboyliao/TOSSUG/master/DS/Big_O/BFS_Distance.png)"
     ]
    },
    {
     "cell_type": "markdown",
     "metadata": {
      "slideshow": {
       "slide_type": "subslide"
      }
     },
     "source": [
      "## Implementation"
     ]
    },
    {
     "cell_type": "code",
     "collapsed": false,
     "input": [
      "def BFS_Dist(graph):\n",
      "    result = dict((i, float(\"inf\")) for i in range(len(graph.keys())))\n",
      "    result[0] = 0\n",
      "    Q = [0]\n",
      "    while len(Q) > 0:\n",
      "        j = Q.pop(0)\n",
      "        for neibor in graph[j]:\n",
      "            if result[neibor] == float(\"inf\"):\n",
      "                result[neibor] = result[j] + 1\n",
      "                Q.append(neibor)\n",
      "    return result"
     ],
     "language": "python",
     "metadata": {
      "slideshow": {
       "slide_type": "subslide"
      }
     },
     "outputs": [],
     "prompt_number": 7
    },
    {
     "cell_type": "code",
     "collapsed": false,
     "input": [
      "graph = {\n",
      "    0:set([1, 4]),\n",
      "    1:set([0]),\n",
      "    2:set([4]),\n",
      "    3:set([4]),\n",
      "    4:set([0, 2, 3])\n",
      "}"
     ],
     "language": "python",
     "metadata": {
      "slideshow": {
       "slide_type": "subslide"
      }
     },
     "outputs": [],
     "prompt_number": 8
    },
    {
     "cell_type": "code",
     "collapsed": false,
     "input": [
      "BFS_Dist(graph)"
     ],
     "language": "python",
     "metadata": {
      "slideshow": {
       "slide_type": "fragment"
      }
     },
     "outputs": [
      {
       "metadata": {},
       "output_type": "pyout",
       "prompt_number": 9,
       "text": [
        "{0: 0, 1: 1, 2: 2, 3: 2, 4: 1}"
       ]
      }
     ],
     "prompt_number": 9
    },
    {
     "cell_type": "markdown",
     "metadata": {
      "slideshow": {
       "slide_type": "subslide"
      }
     },
     "source": [
      "- Find the Big-O for BFS-Distance algorithm.\n",
      "\n",
      "Find it too hard to estimate the $\\mathcal{O}(\\cdot)$ by hand? <br>\n",
      "Let's write some code and do some experiments."
     ]
    },
    {
     "cell_type": "markdown",
     "metadata": {
      "slideshow": {
       "slide_type": "subslide"
      }
     },
     "source": [
      "## Some helper function"
     ]
    },
    {
     "cell_type": "code",
     "collapsed": false,
     "input": [
      "import random\n",
      "def graph_gen(n, m):\n",
      "    result = dict((i, set([])) for i in range(n))\n",
      "    index = random.sample(range(n**2), m)\n",
      "    adj_matrix = [[0 for i in range(n)] for j in range(n)]\n",
      "    print index\n",
      "    for ind in index:\n",
      "        i = ind / n\n",
      "        j = ind % n\n",
      "        adj_matrix[i][j] = 1\n",
      "    for i in result.keys():\n",
      "        row = adj_matrix[i]\n",
      "        count = 0\n",
      "        for j in row:\n",
      "            if j == 1:\n",
      "                result[i].add(count)\n",
      "            count += 1\n",
      "    return result"
     ],
     "language": "python",
     "metadata": {
      "slideshow": {
       "slide_type": "fragment"
      }
     },
     "outputs": [],
     "prompt_number": 10
    },
    {
     "cell_type": "code",
     "collapsed": false,
     "input": [
      "graph = graph_gen(10, 20) \n",
      "graph"
     ],
     "language": "python",
     "metadata": {
      "slideshow": {
       "slide_type": "subslide"
      }
     },
     "outputs": [
      {
       "output_type": "stream",
       "stream": "stdout",
       "text": [
        "[21, 17, 74, 82, 7, 76, 31, 79, 12, 64, 32, 86, 37, 81, 36, 97, 28, 13, 58, 68]\n"
       ]
      },
      {
       "metadata": {},
       "output_type": "pyout",
       "prompt_number": 11,
       "text": [
        "{0: {7},\n",
        " 1: {2, 3, 7},\n",
        " 2: {1, 8},\n",
        " 3: {1, 2, 6, 7},\n",
        " 4: set(),\n",
        " 5: {8},\n",
        " 6: {4, 8},\n",
        " 7: {4, 6, 9},\n",
        " 8: {1, 2, 6},\n",
        " 9: {7}}"
       ]
      }
     ],
     "prompt_number": 11
    },
    {
     "cell_type": "markdown",
     "metadata": {
      "slideshow": {
       "slide_type": "subslide"
      }
     },
     "source": [
      "## Demo - Experimental Way to Find the Big-O "
     ]
    },
    {
     "cell_type": "code",
     "collapsed": false,
     "input": [
      "%pylab inline"
     ],
     "language": "python",
     "metadata": {
      "slideshow": {
       "slide_type": "subslide"
      }
     },
     "outputs": [
      {
       "output_type": "stream",
       "stream": "stdout",
       "text": [
        "Populating the interactive namespace from numpy and matplotlib\n"
       ]
      },
      {
       "output_type": "stream",
       "stream": "stderr",
       "text": [
        "WARNING: pylab import has clobbered these variables: ['random']\n",
        "`%matplotlib` prevents importing * from pylab and numpy\n"
       ]
      }
     ],
     "prompt_number": 12
    },
    {
     "cell_type": "code",
     "collapsed": false,
     "input": [
      "import numpy as np"
     ],
     "language": "python",
     "metadata": {
      "slideshow": {
       "slide_type": "fragment"
      }
     },
     "outputs": [],
     "prompt_number": 13
    },
    {
     "cell_type": "code",
     "collapsed": false,
     "input": [
      "def mystery_fun(x):\n",
      "    return 10000 + 3*x + 0.5*x**2 + x**6"
     ],
     "language": "python",
     "metadata": {
      "slideshow": {
       "slide_type": "fragment"
      }
     },
     "outputs": [],
     "prompt_number": 14
    },
    {
     "cell_type": "code",
     "collapsed": false,
     "input": [
      "x = np.linspace(2,10, 100000)\n",
      "y = mystery_fun(x)"
     ],
     "language": "python",
     "metadata": {
      "slideshow": {
       "slide_type": "subslide"
      }
     },
     "outputs": [],
     "prompt_number": 15
    },
    {
     "cell_type": "code",
     "collapsed": false,
     "input": [
      "plot(np.log(x), np.log(y))"
     ],
     "language": "python",
     "metadata": {
      "slideshow": {
       "slide_type": "fragment"
      }
     },
     "outputs": [
      {
       "metadata": {},
       "output_type": "pyout",
       "prompt_number": 16,
       "text": [
        "[<matplotlib.lines.Line2D at 0x10628d950>]"
       ]
      },
      {
       "metadata": {},
       "output_type": "display_data",
       "png": "[encoded data removed]",
       "text": [
        "<matplotlib.figure.Figure at 0x105fa0510>"
       ]
      }
     ],
     "prompt_number": 16
    },
    {
     "cell_type": "code",
     "collapsed": false,
     "input": [
      "regression = np.polyfit(np.log(x), np.log(y), 1)\n",
      "regression"
     ],
     "language": "python",
     "metadata": {
      "slideshow": {
       "slide_type": "subslide"
      }
     },
     "outputs": [
      {
       "metadata": {},
       "output_type": "pyout",
       "prompt_number": 17,
       "text": [
        "array([ 3.29966881,  5.48452819])"
       ]
      }
     ],
     "prompt_number": 17
    },
    {
     "cell_type": "code",
     "collapsed": false,
     "input": [
      "x2 = np.linspace(2,10000, 100000)\n",
      "y2 = mystery_fun(x2)"
     ],
     "language": "python",
     "metadata": {
      "slideshow": {
       "slide_type": "subslide"
      }
     },
     "outputs": [],
     "prompt_number": 18
    },
    {
     "cell_type": "code",
     "collapsed": false,
     "input": [
      "plot(np.log(x2), np.log(y2))"
     ],
     "language": "python",
     "metadata": {
      "slideshow": {
       "slide_type": "fragment"
      }
     },
     "outputs": [
      {
       "metadata": {},
       "output_type": "pyout",
       "prompt_number": 19,
       "text": [
        "[<matplotlib.lines.Line2D at 0x106f99ad0>]"
       ]
      },
      {
       "metadata": {},
       "output_type": "display_data",
       "png": "[encoded data removed]",
       "text": [
        "<matplotlib.figure.Figure at 0x106526650>"
       ]
      }
     ],
     "prompt_number": 19
    },
    {
     "cell_type": "code",
     "collapsed": false,
     "input": [
      "regression = np.polyfit(np.log(x2), np.log(y2), 1)\n",
      "regression"
     ],
     "language": "python",
     "metadata": {
      "slideshow": {
       "slide_type": "subslide"
      }
     },
     "outputs": [
      {
       "metadata": {},
       "output_type": "pyout",
       "prompt_number": 20,
       "text": [
        "array([ 5.99472445,  0.04405501])"
       ]
      }
     ],
     "prompt_number": 20
    },
    {
     "cell_type": "markdown",
     "metadata": {
      "slideshow": {
       "slide_type": "slide"
      }
     },
     "source": [
      "### TextBook\n",
      "[Problem Solving with Algorithms and Data Structures](http://interactivepython.org/runestone/static/pythonds/index.html)\n",
      "\n",
      "### Reference\n",
      "[Algorithmic Thinking](https://class.coursera.org/algorithmicthink-001)\n",
      "\n",
      "[Algorithms: Design and Analysis, Part 1](https://class.coursera.org/algo-006/)\n"
     ]
    }
   ],
   "metadata": {}
  }
 ]
}